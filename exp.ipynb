{
 "cells": [
  {
   "cell_type": "code",
   "execution_count": 3,
   "metadata": {},
   "outputs": [],
   "source": [
    "import pandas as pd\n",
    "import matplotlib.pyplot as plt\n",
    "import numpy as np\n",
    "import scipy.stats as ss\n",
    "\n",
    "pd.options.mode.chained_assignment = None  # default='warn'\n",
    "import numpy as np\n",
    "df = pd.read_csv('data/db.csv')\n",
    "new_df = df.dropna()"
   ]
  },
  {
   "cell_type": "code",
   "execution_count": 4,
   "metadata": {},
   "outputs": [],
   "source": [
    "def ganancias_cleaning(x):\n",
    "    if x == \"NI\":\n",
    "        return \"NI\"\n",
    "    elif x == \"AC\":\n",
    "        return \"AC\"\n",
    "    elif x == \"EX\":\n",
    "        return \"EX\"\n",
    "    elif x == \"NC\":\n",
    "        return \"NC\"\n",
    "    else:\n",
    "        return\n"
   ]
  },
  {
   "cell_type": "code",
   "execution_count": 5,
   "metadata": {},
   "outputs": [],
   "source": [
    "new_df[\"IMP_GANANCIAS\"] = new_df[\"IMP_GANANCIAS\"].apply(ganancias_cleaning)"
   ]
  },
  {
   "cell_type": "code",
   "execution_count": 6,
   "metadata": {},
   "outputs": [],
   "source": [
    "new_df.dropna(inplace= True)"
   ]
  },
  {
   "cell_type": "code",
   "execution_count": 7,
   "metadata": {},
   "outputs": [
    {
     "data": {
      "text/plain": [
       "count     5591922\n",
       "unique          4\n",
       "top            NI\n",
       "freq      4130598\n",
       "Name: IMP_GANANCIAS, dtype: object"
      ]
     },
     "execution_count": 7,
     "metadata": {},
     "output_type": "execute_result"
    }
   ],
   "source": [
    "new_df['IMP_GANANCIAS'].describe()"
   ]
  },
  {
   "cell_type": "code",
   "execution_count": 8,
   "metadata": {},
   "outputs": [],
   "source": [
    "def iva_cleaning(x):\n",
    "    if x == \"NI\":\n",
    "        return \"NI\"\n",
    "    elif x == \"AC\":\n",
    "        return \"AC\"\n",
    "    elif x == \"EX\":\n",
    "        return \"EX\"\n",
    "    elif x == \"NA\":\n",
    "        return \"NA\"\n",
    "    elif x == \"XN\":\n",
    "        return \"XN\"\n",
    "    elif x == \"AN\":\n",
    "        return \"AN\"\n",
    "    else:\n",
    "        return"
   ]
  },
  {
   "cell_type": "code",
   "execution_count": 9,
   "metadata": {},
   "outputs": [],
   "source": [
    "new_df[\"IMP_IVA\"] = new_df[\"IMP_IVA\"].apply(iva_cleaning)"
   ]
  },
  {
   "cell_type": "code",
   "execution_count": 10,
   "metadata": {},
   "outputs": [],
   "source": [
    "new_df.dropna(inplace= True)"
   ]
  },
  {
   "cell_type": "code",
   "execution_count": 11,
   "metadata": {},
   "outputs": [
    {
     "data": {
      "text/plain": [
       "count     5591912\n",
       "unique          5\n",
       "top            NI\n",
       "freq      4307608\n",
       "Name: IMP_IVA, dtype: object"
      ]
     },
     "execution_count": 11,
     "metadata": {},
     "output_type": "execute_result"
    }
   ],
   "source": [
    "new_df['IMP_IVA'].describe()"
   ]
  },
  {
   "cell_type": "code",
   "execution_count": 12,
   "metadata": {},
   "outputs": [],
   "source": [
    "def soc_cleaning(x):\n",
    "    if x == \"N\":\n",
    "        return \"N\"\n",
    "    elif x == \"S\":\n",
    "        return \"S\"\n",
    "    else:\n",
    "        return"
   ]
  },
  {
   "cell_type": "code",
   "execution_count": 13,
   "metadata": {},
   "outputs": [],
   "source": [
    "new_df[\"INTEGRANTE_SOC\"] = new_df[\"INTEGRANTE_SOC\"].apply(soc_cleaning)"
   ]
  },
  {
   "cell_type": "code",
   "execution_count": 14,
   "metadata": {},
   "outputs": [],
   "source": [
    "new_df.dropna(inplace= True)"
   ]
  },
  {
   "cell_type": "code",
   "execution_count": 15,
   "metadata": {},
   "outputs": [
    {
     "data": {
      "text/plain": [
       "count     5591783\n",
       "unique          1\n",
       "top             N\n",
       "freq      5591783\n",
       "Name: INTEGRANTE_SOC, dtype: object"
      ]
     },
     "execution_count": 15,
     "metadata": {},
     "output_type": "execute_result"
    }
   ],
   "source": [
    "new_df['INTEGRANTE_SOC'].describe()"
   ]
  },
  {
   "cell_type": "code",
   "execution_count": 16,
   "metadata": {},
   "outputs": [],
   "source": [
    "new_df[\"EMPLEADOR\"] = new_df[\"EMPLEADOR\"].apply(soc_cleaning)"
   ]
  },
  {
   "cell_type": "code",
   "execution_count": 17,
   "metadata": {},
   "outputs": [],
   "source": [
    "new_df.dropna(inplace= True)"
   ]
  },
  {
   "cell_type": "code",
   "execution_count": 18,
   "metadata": {},
   "outputs": [
    {
     "data": {
      "text/plain": [
       "count     5591728\n",
       "unique          2\n",
       "top             N\n",
       "freq      5045076\n",
       "Name: EMPLEADOR, dtype: object"
      ]
     },
     "execution_count": 18,
     "metadata": {},
     "output_type": "execute_result"
    }
   ],
   "source": [
    "new_df['EMPLEADOR'].describe()"
   ]
  },
  {
   "cell_type": "code",
   "execution_count": 19,
   "metadata": {},
   "outputs": [
    {
     "data": {
      "text/plain": [
       "<Axes: >"
      ]
     },
     "execution_count": 19,
     "metadata": {},
     "output_type": "execute_result"
    },
    {
     "data": {
      "image/png": "[encoded data removed]",
      "text/plain": [
       "<Figure size 640x480 with 1 Axes>"
      ]
     },
     "metadata": {},
     "output_type": "display_data"
    }
   ],
   "source": [
    "new_df.plot.box()"
   ]
  },
  {
   "cell_type": "code",
   "execution_count": 17,
   "metadata": {},
   "outputs": [],
   "source": [
    "def cuit_cleaning(x):\n",
    "    x = x / 10000000000\n",
    "    x = round(x)\n",
    "    return x"
   ]
  },
  {
   "cell_type": "code",
   "execution_count": 18,
   "metadata": {},
   "outputs": [],
   "source": [
    "new_df[\"CUIT\"] = new_df[\"CUIT\"].apply(cuit_cleaning)"
   ]
  },
  {
   "cell_type": "code",
   "execution_count": 19,
   "metadata": {},
   "outputs": [
    {
     "data": {
      "text/plain": [
       "count    5.591728e+06\n",
       "mean     2.464923e+00\n",
       "std      4.987681e-01\n",
       "min      2.000000e+00\n",
       "25%      2.000000e+00\n",
       "50%      2.000000e+00\n",
       "75%      3.000000e+00\n",
       "max      3.000000e+00\n",
       "Name: CUIT, dtype: float64"
      ]
     },
     "execution_count": 19,
     "metadata": {},
     "output_type": "execute_result"
    }
   ],
   "source": [
    "new_df['CUIT'].describe()"
   ]
  },
  {
   "cell_type": "code",
   "execution_count": 20,
   "metadata": {},
   "outputs": [],
   "source": [
    "new_df.dropna(inplace= True)"
   ]
  },
  {
   "cell_type": "code",
   "execution_count": 21,
   "metadata": {},
   "outputs": [
    {
     "name": "stdout",
     "output_type": "stream",
     "text": [
      "<class 'pandas.core.frame.DataFrame'>\n",
      "Index: 5591728 entries, 0 to 6020995\n",
      "Data columns (total 8 columns):\n",
      " #   Column                 Dtype \n",
      "---  ------                 ----- \n",
      " 0   CUIT                   int64 \n",
      " 1   DENOMINACION           object\n",
      " 2   IMP_GANANCIAS          object\n",
      " 3   IMP_IVA                object\n",
      " 4   MONOTRIBUTO            object\n",
      " 5   INTEGRANTE_SOC         object\n",
      " 6   EMPLEADOR              object\n",
      " 7   ACTIVIDAD_MONOTRIBUTO  object\n",
      "dtypes: int64(1), object(7)\n",
      "memory usage: 384.0+ MB\n"
     ]
    }
   ],
   "source": [
    "new_df.info()"
   ]
  },
  {
   "cell_type": "code",
   "execution_count": 22,
   "metadata": {},
   "outputs": [
    {
     "data": {
      "text/plain": [
       "<Axes: ylabel='Frequency'>"
      ]
     },
     "execution_count": 22,
     "metadata": {},
     "output_type": "execute_result"
    },
    {
     "data": {
      "image/png": "[encoded data removed]",
      "text/plain": [
       "<Figure size 640x480 with 1 Axes>"
      ]
     },
     "metadata": {},
     "output_type": "display_data"
    }
   ],
   "source": [
    "new_df.plot.hist()"
   ]
  },
  {
   "cell_type": "code",
   "execution_count": 23,
   "metadata": {},
   "outputs": [],
   "source": [
    "confusion_matrix_g_i = pd.crosstab(new_df[\"IMP_GANANCIAS\"], new_df[\"IMP_IVA\"])"
   ]
  },
  {
   "cell_type": "code",
   "execution_count": 24,
   "metadata": {},
   "outputs": [],
   "source": [
    "def cramers_corrected(confusion_matrix):\n",
    "    chi2 = ss.chi2_contingency(confusion_matrix)[0]\n",
    "    n = confusion_matrix.sum().sum()\n",
    "    phi2 = chi2/n\n",
    "    r,k = confusion_matrix.shape\n",
    "    phi2corr = max(0, phi2 - ((k-1)*(r-1))/(n-1))    \n",
    "    rcorr = r - ((r-1)**2)/(n-1)\n",
    "    kcorr = k - ((k-1)**2)/(n-1)\n",
    "    return np.sqrt(phi2corr / min( (kcorr-1), (rcorr-1)))"
   ]
  },
  {
   "cell_type": "code",
   "execution_count": 25,
   "metadata": {},
   "outputs": [],
   "source": [
    "correlation_g_i = cramers_corrected(confusion_matrix_g_i)"
   ]
  },
  {
   "cell_type": "code",
   "execution_count": 26,
   "metadata": {},
   "outputs": [],
   "source": [
    "confusion_matrix_g_m = pd.crosstab(new_df[\"IMP_GANANCIAS\"], new_df[\"MONOTRIBUTO\"])"
   ]
  },
  {
   "cell_type": "code",
   "execution_count": 27,
   "metadata": {},
   "outputs": [],
   "source": [
    "correlation_g_m = cramers_corrected(confusion_matrix_g_m)"
   ]
  },
  {
   "cell_type": "code",
   "execution_count": 28,
   "metadata": {},
   "outputs": [],
   "source": [
    "confusion_matrix_i_m = pd.crosstab(new_df[\"IMP_IVA\"], new_df[\"MONOTRIBUTO\"])"
   ]
  },
  {
   "cell_type": "code",
   "execution_count": 29,
   "metadata": {},
   "outputs": [],
   "source": [
    "correlation_i_m = cramers_corrected(confusion_matrix_i_m)"
   ]
  },
  {
   "cell_type": "code",
   "execution_count": 31,
   "metadata": {},
   "outputs": [
    {
     "data": {
      "text/plain": [
       "CUIT\n",
       "2    2992005\n",
       "3    2599723\n",
       "Name: count, dtype: int64"
      ]
     },
     "execution_count": 31,
     "metadata": {},
     "output_type": "execute_result"
    }
   ],
   "source": [
    "new_df['CUIT'].value_counts()"
   ]
  },
  {
   "cell_type": "code",
   "execution_count": 33,
   "metadata": {},
   "outputs": [
    {
     "name": "stdout",
     "output_type": "stream",
     "text": [
      "Statistics Values:  20283.4 \n",
      " P _Value        : 0.0\n"
     ]
    }
   ],
   "source": [
    "F, p = ss.f_oneway(new_df[new_df.IMP_GANANCIAS==\"NI\"].CUIT,\n",
    "                  new_df[new_df.IMP_GANANCIAS==\"AC\"].CUIT,\n",
    "                  new_df[new_df.IMP_GANANCIAS==\"EX\"].CUIT,\n",
    "                  new_df[new_df.IMP_GANANCIAS==\"NC\"].CUIT)\n",
    "print(\"Statistics Values: \",np.round(F,2), \"\\n\",\"P _Value        :\",np.round(p,2))"
   ]
  },
  {
   "cell_type": "code",
   "execution_count": 34,
   "metadata": {},
   "outputs": [
    {
     "data": {
      "text/plain": [
       "IMP_GANANCIAS  CUIT\n",
       "AC             2        776690\n",
       "               3        633496\n",
       "EX             3         23921\n",
       "NC             3         27146\n",
       "NI             2       2215315\n",
       "               3       1915160\n",
       "Name: CUIT, dtype: int64"
      ]
     },
     "execution_count": 34,
     "metadata": {},
     "output_type": "execute_result"
    }
   ],
   "source": [
    "new_df.groupby([\"IMP_GANANCIAS\",\"CUIT\"])[\"CUIT\"].count()"
   ]
  },
  {
   "cell_type": "code",
   "execution_count": 35,
   "metadata": {},
   "outputs": [],
   "source": [
    "pd.set_option(\"display.max_rows\", None)"
   ]
  },
  {
   "cell_type": "code",
   "execution_count": 36,
   "metadata": {},
   "outputs": [
    {
     "data": {
      "text/plain": [
       "MONOTRIBUTO  CUIT\n",
       "A            2       894634\n",
       "             3       773864\n",
       "AC           2        19185\n",
       "             3         6669\n",
       "AL           2       135946\n",
       "             3       150966\n",
       "AP           2        41914\n",
       "             3        13149\n",
       "AT           2        56084\n",
       "             3        91740\n",
       "AV           2        64457\n",
       "             3       102231\n",
       "B            2       335911\n",
       "             3       245052\n",
       "C            2       211707\n",
       "             3       150219\n",
       "D            2       204099\n",
       "             3       127069\n",
       "E            2       111255\n",
       "             3        68661\n",
       "F            2       115943\n",
       "             3        68402\n",
       "G            2        57384\n",
       "             3        33898\n",
       "H            2        28955\n",
       "             3        16335\n",
       "I            2         3314\n",
       "             3         2186\n",
       "J            2         1479\n",
       "             3          858\n",
       "K            2          844\n",
       "             3          468\n",
       "NI           2       708894\n",
       "             3       747956\n",
       "Name: CUIT, dtype: int64"
      ]
     },
     "execution_count": 36,
     "metadata": {},
     "output_type": "execute_result"
    }
   ],
   "source": [
    "new_df.groupby([\"MONOTRIBUTO\",\"CUIT\"])[\"CUIT\"].count()"
   ]
  },
  {
   "cell_type": "code",
   "execution_count": 37,
   "metadata": {},
   "outputs": [
    {
     "data": {
      "text/plain": [
       "EMPLEADOR  CUIT\n",
       "N          2       2805164\n",
       "           3       2239912\n",
       "S          2        186841\n",
       "           3        359811\n",
       "Name: CUIT, dtype: int64"
      ]
     },
     "execution_count": 37,
     "metadata": {},
     "output_type": "execute_result"
    }
   ],
   "source": [
    "new_df.groupby([\"EMPLEADOR\",\"CUIT\"])[\"CUIT\"].count()"
   ]
  },
  {
   "cell_type": "code",
   "execution_count": 38,
   "metadata": {},
   "outputs": [
    {
     "data": {
      "text/plain": [
       "EMPLEADOR\n",
       "N    5045076\n",
       "S     546652\n",
       "Name: EMPLEADOR, dtype: int64"
      ]
     },
     "execution_count": 38,
     "metadata": {},
     "output_type": "execute_result"
    }
   ],
   "source": [
    "new_df.groupby([\"EMPLEADOR\"])[\"EMPLEADOR\"].count()"
   ]
  },
  {
   "cell_type": "code",
   "execution_count": 39,
   "metadata": {},
   "outputs": [
    {
     "data": {
      "text/plain": [
       "INTEGRANTE_SOC\n",
       "N    5591728\n",
       "Name: INTEGRANTE_SOC, dtype: int64"
      ]
     },
     "execution_count": 39,
     "metadata": {},
     "output_type": "execute_result"
    }
   ],
   "source": [
    "new_df.groupby([\"INTEGRANTE_SOC\"])[\"INTEGRANTE_SOC\"].count()"
   ]
  },
  {
   "cell_type": "code",
   "execution_count": 40,
   "metadata": {},
   "outputs": [
    {
     "data": {
      "text/plain": [
       "IMP_GANANCIAS\n",
       "AC    1410186\n",
       "EX      23921\n",
       "NC      27146\n",
       "NI    4130475\n",
       "Name: IMP_GANANCIAS, dtype: int64"
      ]
     },
     "execution_count": 40,
     "metadata": {},
     "output_type": "execute_result"
    }
   ],
   "source": [
    "new_df.groupby([\"IMP_GANANCIAS\"])[\"IMP_GANANCIAS\"].count()"
   ]
  },
  {
   "cell_type": "code",
   "execution_count": 41,
   "metadata": {},
   "outputs": [
    {
     "data": {
      "text/plain": [
       "IMP_IVA\n",
       "AC    1028217\n",
       "AN         63\n",
       "EX     255763\n",
       "NI    4307474\n",
       "XN        211\n",
       "Name: IMP_IVA, dtype: int64"
      ]
     },
     "execution_count": 41,
     "metadata": {},
     "output_type": "execute_result"
    }
   ],
   "source": [
    "new_df.groupby([\"IMP_IVA\"])[\"IMP_IVA\"].count()"
   ]
  }
 ],
 "metadata": {
  "kernelspec": {
   "display_name": "py101",
   "language": "python",
   "name": "python3"
  },
  "language_info": {
   "codemirror_mode": {
    "name": "ipython",
    "version": 3
   },
   "file_extension": ".py",
   "mimetype": "text/x-python",
   "name": "python",
   "nbconvert_exporter": "python",
   "pygments_lexer": "ipython3",
   "version": "3.11.4"
  },
  "orig_nbformat": 4
 },
 "nbformat": 4,
 "nbformat_minor": 2
}
